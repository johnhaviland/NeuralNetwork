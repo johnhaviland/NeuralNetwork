{
 "cells": [
  {
   "cell_type": "markdown",
   "metadata": {},
   "source": [
    " <h1>ANN to find Optimal NBA Team</h1>\n",
    " <h2>Nathan and John</h2>\n",
    " a) Problem statement,\n",
    "    From a pool of 100 players, we are to find an optimal team of 5 players by training an ANN, considering their stats. We define the optimal team as: and we will accomplish that by :"
   ]
  },
  {
   "cell_type": "code",
   "execution_count": 1,
   "metadata": {},
   "outputs": [],
   "source": [
    "import numpy as np\n",
    "from sklearn.model_selection import train_test_split\n",
    "from sklearn.feature_extraction.text import TfidfVectorizer\n",
    "from sklearn.preprocessing import StandardScaler\n",
    "from sklearn.model_selection import train_test_split\n",
    "from keras.models import Sequential\n",
    "from keras.layers import Dense, Embedding, Flatten\n",
    "import string\n",
    "# import nltk\n",
    "import pandas as pd\n"
   ]
  },
  {
   "cell_type": "markdown",
   "metadata": {},
   "source": [
    "<h1>Importing Libraries</h1>"
   ]
  },
  {
   "cell_type": "code",
   "execution_count": null,
   "metadata": {},
   "outputs": [],
   "source": [
    "# Load NBA Players Dataset\n",
    "nba_players_dataset = pd.read_json(r\"nba-players_21-22.json\")\n",
    "\n",
    "# features\n",
    "features = ['ast', 'reb', 'gp', 'usg_pct', 'dreb_pct']\n",
    "X = nba_players_dataset[features]\n",
    "\n",
    "\n",
    "# Define the selection criteria\n",
    "criteria = (\n",
    "    (nba_players_dataset['gp'] >= 75) &\n",
    "    (nba_players_dataset['player_height'] >= 196) &\n",
    "    (nba_players_dataset['reb'] >= 4) &\n",
    "    (nba_players_dataset['ast_pct'] >= 0.1) &\n",
    "    (nba_players_dataset['ts_pct'] >= 0.56)\n",
    ")\n",
    "\n",
    "# Create the 'selected_for_team' column based on the criteria\n",
    "nba_players_dataset['selected_for_team'] = criteria.astype(int)\n",
    "\n",
    "\n",
    "# Extract the input features from the dataset\n",
    "\n",
    "# Target variable\n",
    "y = nba_players_dataset['selected_for_team'].values  # 'selected_for_team' is the target variable\n",
    "\n",
    "scaler = StandardScaler()\n",
    "X_scaled = scaler.fit_transform(X)\n",
    "\n",
    "# Split data for training\n",
    "X_train, X_test, y_train, Y_test = train_test_split(X_scaled, y, test_size=0.3, random_state=11)\n"
   ]
  },
  {
   "cell_type": "code",
   "execution_count": null,
   "metadata": {},
   "outputs": [],
   "source": []
  },
  {
   "cell_type": "markdown",
   "metadata": {},
   "source": [
    "<h1>Loading in the data</h1>\n",
    "\n",
    "We are using a dataset provided. It is based on NBA player stats that include height, weight, points, assists, etc. We have decided to focus on 5 characteristics that will make the optimal team. For the sake of simplicity, all five of the criteria will be considered for each of the members."
   ]
  }
 ],
 "metadata": {
  "kernelspec": {
   "display_name": "ann-venv",
   "language": "python",
   "name": "python3"
  },
  "language_info": {
   "codemirror_mode": {
    "name": "ipython",
    "version": 3
   },
   "file_extension": ".py",
   "mimetype": "text/x-python",
   "name": "python",
   "nbconvert_exporter": "python",
   "pygments_lexer": "ipython3",
   "version": "3.10.10"
  },
  "orig_nbformat": 4
 },
 "nbformat": 4,
 "nbformat_minor": 2
}
